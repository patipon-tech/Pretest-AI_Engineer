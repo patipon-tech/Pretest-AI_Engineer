{
  "nbformat": 4,
  "nbformat_minor": 0,
  "metadata": {
    "colab": {
      "provenance": [],
      "authorship_tag": "ABX9TyMfAtiyqMK3aXWG/W2mzsWx",
      "include_colab_link": true
    },
    "kernelspec": {
      "name": "python3",
      "display_name": "Python 3"
    },
    "language_info": {
      "name": "python"
    }
  },
  "cells": [
    {
      "cell_type": "markdown",
      "metadata": {
        "id": "view-in-github",
        "colab_type": "text"
      },
      "source": [
        "<a href=\"https://colab.research.google.com/github/patipon-tech/Pretest-AI_Engineer/blob/main/Test_Ai_Engineer.ipynb\" target=\"_parent\"><img src=\"https://colab.research.google.com/assets/colab-badge.svg\" alt=\"Open In Colab\"/></a>"
      ]
    },
    {
      "cell_type": "markdown",
      "source": [
        "# แปลงข้อมูลจาก 1M record เป็น 10 M reccord"
      ],
      "metadata": {
        "id": "j771HQzSpbDQ"
      }
    },
    {
      "cell_type": "code",
      "source": [
        "import pandas as pd\n",
        "import numpy as np\n",
        "\n",
        "# 1️⃣ โหลดไฟล์ CSV เดิม\n",
        "df = pd.read_csv(\"large_order_data_2024.csv\")\n",
        "\n",
        "# 2️⃣ ทำซ้ำ DataFrame เพื่อให้ได้ 10 ล้าน Record\n",
        "repeat_times = 10\n",
        "df_large = pd.concat([df.copy() for _ in range(repeat_times)], ignore_index=True)\n",
        "\n",
        "# 3️⃣ เพิ่มความแปรปรวนในยอดขาย ±10% (ถ้าต้องการ)\n",
        "np.random.seed(42)\n",
        "df_large['amount'] = df_large['amount'] * (1 + np.random.uniform(-0.1, 0.1, size=len(df_large)))\n",
        "\n",
        "# 4️⃣ ตรวจสอบจำนวน Record\n",
        "print(df_large.shape)  # ควรเป็น (10_000_000, จำนวนคอลัมน์)\n",
        "\n",
        "# 5️⃣ บันทึกเป็น CSV\n",
        "df_large.to_csv(\"large_order_data_10M.csv\", index=False)\n"
      ],
      "metadata": {
        "colab": {
          "base_uri": "https://localhost:8080/"
        },
        "id": "D8eIbMnUAuOP",
        "outputId": "c9b36e03-38b3-4855-8c5c-93a76a255997"
      },
      "execution_count": 10,
      "outputs": [
        {
          "output_type": "stream",
          "name": "stdout",
          "text": [
            "(10000000, 8)\n"
          ]
        }
      ]
    },
    {
      "cell_type": "markdown",
      "source": [
        "# Top 10 Spender"
      ],
      "metadata": {
        "id": "pfRJC4ALBWpA"
      }
    },
    {
      "cell_type": "code",
      "source": [
        "import pandas as pd\n",
        "\n",
        "# 1️⃣ โหลดไฟล์ CSV ขนาดใหญ่\n",
        "df = pd.read_csv(\"large_order_data_10M.csv\")\n",
        "\n",
        "# 2️⃣ แปลงคอลัมน์วันที่เป็น datetime\n",
        "df['transaction_datetime'] = pd.to_datetime(df['transaction_datetime'])\n",
        "\n",
        "# 3️⃣ สร้างคอลัมน์ year_month\n",
        "df['year_month'] = df['transaction_datetime'].dt.to_period('M')\n",
        "\n",
        "# 4️⃣ รวมยอดขายต่อ customer ต่อเดือน\n",
        "monthly_sales = df.groupby(['year_month', 'customer_no'], as_index=False)['amount'].sum()\n",
        "\n",
        "# 5️⃣ หา Top 10 spender ของแต่ละเดือน\n",
        "top10_each_month = (\n",
        "    monthly_sales\n",
        "    .sort_values(['year_month', 'amount'], ascending=[True, False])\n",
        "    .groupby('year_month', group_keys=False)\n",
        "    .head(10)\n",
        ")\n",
        "\n",
        "# 6️⃣ เพิ่มคอลัมน์ rank ต่อเดือน\n",
        "top10_each_month['rank'] = top10_each_month.groupby('year_month')['amount'].rank(method='first', ascending=False)\n",
        "\n",
        "# 7️⃣ บันทึกผลลัพธ์เป็น CSV\n",
        "top10_each_month.to_csv(\"top10_spender_each_month.csv\", index=False)\n",
        "\n",
        "print(\"Export CSV เรียบร้อย: top10_spender_each_month.csv\")"
      ],
      "metadata": {
        "colab": {
          "base_uri": "https://localhost:8080/"
        },
        "id": "WWfLsgaTlkQz",
        "outputId": "d98d73f1-08cc-453a-d782-fd9a6ab8c534"
      },
      "execution_count": 13,
      "outputs": [
        {
          "output_type": "stream",
          "name": "stdout",
          "text": [
            "Export CSV เรียบร้อย: top10_spender_each_month.csv\n"
          ]
        }
      ]
    }
  ]
}